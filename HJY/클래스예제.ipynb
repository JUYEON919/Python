{
 "cells": [
  {
   "cell_type": "code",
   "execution_count": 10,
   "metadata": {},
   "outputs": [
    {
     "name": "stdout",
     "output_type": "stream",
     "text": [
      "멍멍이가 짖습니다!\n"
     ]
    }
   ],
   "source": [
    "#간단한 클래스 예제\n",
    "class Dog:\n",
    "    #초기화 메서드 (생성자)\n",
    "    def __init__(self, name):\n",
    "        self.name = name   # 인스턴스 변수\n",
    "         \n",
    "    def bark(self):\n",
    "        print(f\"{self.name}가 짖습니다!\")\n",
    "        \n",
    "my_dog = Dog(\"멍멍이\")\n",
    "my_dog.bark() #출력 : 멍멍이가 짖습니다"
   ]
  },
  {
   "cell_type": "code",
   "execution_count": 4,
   "metadata": {},
   "outputs": [
    {
     "name": "stdout",
     "output_type": "stream",
     "text": [
      "나비\n",
      "나비가 야옹하고 웁니다.\n",
      "미야\n",
      "미야가 야옹하고 웁니다.\n"
     ]
    }
   ],
   "source": [
    "# 클래스 예제(상속)\n",
    "class Animal:\n",
    "    def __init__(self, name):\n",
    "        self.name = name\n",
    "    def speak(self):\n",
    "        pass\n",
    "class Cat(Animal): # Animal 클래스 상속\n",
    "    def speak(self):\n",
    "        return f\"{self.name}가 야옹하고 웁니다.\"\n",
    "    \n",
    "#객체 생성 및 사용\n",
    "cat1 = Cat(\"나비\")  # Cat 클래스의 인스턴스(객체) 생성\n",
    "print(cat1.name) # 출력 : 나비\n",
    "print(cat1.speak()) # 출력 : 나비가 야옹하고 웁니다.\n",
    "\n",
    "cat2 = Cat(\"미야\") # 다른 인스턴스 생성\n",
    "print(cat2.name) # 출력 : 미야\n",
    "print(cat2.speak()) # 출력 : 미야가 야옹하고 웁니다."
   ]
  },
  {
   "cell_type": "code",
   "execution_count": 7,
   "metadata": {},
   "outputs": [
    {
     "name": "stdout",
     "output_type": "stream",
     "text": [
      "1000\n"
     ]
    }
   ],
   "source": [
    "# 클래스 예제(캡슐화)\n",
    "class BankAccount:\n",
    "    def __init__(self):\n",
    "        self.__balance = 0 # 비공개 변수\n",
    "    def deposit(self, amount):\n",
    "        if amount > 0:\n",
    "            self.__balance += amount\n",
    "    def get_balance(self):\n",
    "        return self.__balance\n",
    "# 실행 예제\n",
    "account = BankAccount()\n",
    "account.deposit(1000)\n",
    "print(account.get_balance()) # 출력 : 1000\n",
    "# print(account._balance) # 오류 발생 : 직접 접근 불가"
   ]
  },
  {
   "cell_type": "code",
   "execution_count": 12,
   "metadata": {},
   "outputs": [
    {
     "name": "stdout",
     "output_type": "stream",
     "text": [
      "파이썬 고등학교\n",
      "파이썬 고등학교\n",
      "파이썬 고등학교\n",
      "6\n"
     ]
    }
   ],
   "source": [
    "# 클래스 변수와 인스턴스 변수 예제\n",
    "class Student:\n",
    "    school_name = \"파이썬 고등학교\" # 클래스 변수\n",
    "    student_count = 0 # 클래스 변수\n",
    "    def __init__(self, name):\n",
    "        self.name = name # 인스턴스 변수\n",
    "        if not hasattr(self, '_added'):\n",
    "            Student.student_count += 1\n",
    "            self._added = True\n",
    "\n",
    "# 실행 예제\n",
    "student1 = Student(\"김수\")\n",
    "student3 = Student(\"김철민\")\n",
    "student5 = Student(\"김철\")\n",
    "student2 = Student(\"이영희\")\n",
    "student4 = Student(\"이영자\")\n",
    "student6 = Student(\"이영수\")\n",
    "\n",
    "print(Student.school_name) # 출력: 파이썬 고등학교\n",
    "print(student1.school_name) # 출력: 파이썬 고등학교\n",
    "print(student2.school_name) # 출력: 파이썬 고등학교\n",
    "print(Student.student_count) # 출력: 2"
   ]
  },
  {
   "cell_type": "code",
   "execution_count": 15,
   "metadata": {},
   "outputs": [
    {
     "name": "stdout",
     "output_type": "stream",
     "text": [
      "계산기를 초기화합니다.\n",
      "덧셈 결과: 30\n",
      "곱셈 결과: 200\n"
     ]
    }
   ],
   "source": [
    "# 계산기 클래스 예제\n",
    "class Calculator:\n",
    "\n",
    "# 초기화 메서드: 아무 상태 없이 계산만 수행\n",
    "    def __init__(self):\n",
    "        print(\"계산기를 초기화합니다.\")\n",
    "\n",
    "# 두 숫자를 더하는 메서드\n",
    "    def add(self, a, b):\n",
    "        return a + b\n",
    "\n",
    "# 두 숫자를 곱하는 메서드\n",
    "    def multiply(self, a, b):\n",
    "        return a * b\n",
    "\n",
    "# 객체 생성 및 메서드 호출\n",
    "calc = Calculator() # 출력 : 계산기를 초기화합니다.\n",
    "print(\"덧셈 결과:\", calc.add(10, 20)) # 출력 : 덧셈결과 : 30\n",
    "print(\"곱셈 결과:\", calc.multiply(10, 20)) # 출력: 곱셈 결과 : 200"
   ]
  },
  {
   "cell_type": "code",
   "execution_count": 20,
   "metadata": {},
   "outputs": [
    {
     "name": "stdout",
     "output_type": "stream",
     "text": [
      "이름: 홍길동, 나이: 16\n",
      "이름: 김철수, 나이: 18\n",
      "이름: 강하늘, 나이: 15\n",
      "이름: 이영희, 나이: 19\n"
     ]
    }
   ],
   "source": [
    "# 학생정보 관리 클래스 예제\n",
    "class Student:\n",
    "\n",
    "# 생성자 : 학생 이름과 나이를 초기화\n",
    "    def __init__(self, name, age):\n",
    "        self.name = name\n",
    "        self.age = age\n",
    "\n",
    "# 학생 정보 출력 메서드\n",
    "    def display_info(self):\n",
    "        print(f\"이름: {self.name}, 나이: {self.age}\")\n",
    "\n",
    "# 객체 새성 및 메서드 호출\n",
    "student1 = Student(\"홍길동\", 16)\n",
    "student2 = Student(\"김철수\", 18)\n",
    "student3 = Student(\"강하늘\", 15)\n",
    "student4 = Student(\"이영희\", 19)\n",
    "\n",
    "student1.display_info() # 출력: 이름: 홍길동, 나이: 16\n",
    "student2.display_info() # 출력: 이름: 김철수, 나이: 18\n",
    "student3.display_info()\n",
    "student4.display_info()"
   ]
  },
  {
   "cell_type": "code",
   "execution_count": 28,
   "metadata": {},
   "outputs": [
    {
     "name": "stdout",
     "output_type": "stream",
     "text": [
      "어벤져스 영화의 할인된 가격: 10000원\n"
     ]
    }
   ],
   "source": [
    "# 영화 티켓 할인 관리 클래스 예제\n",
    "class MoiveTicket:\n",
    "\n",
    "# 생성자 : 영화 제목과 기본 티켓 가격 초기화\n",
    "    def __init__(self, title, price):\n",
    "        self.title = title\n",
    "        self.price = price\n",
    "\n",
    "# 할인 적용 메서드\n",
    "    def apply_discount(self, discount):\n",
    "        self.price -= discount\n",
    "        print(f\"{self.title} 영화의 할인된 가격: {self.price}원\")\n",
    "\n",
    "# 객체 생성 및 메서드 호출\n",
    "ticket = MoiveTicket(\"어벤져스\", 12000)\n",
    "ticket.apply_discount(2000) # 출력 : 어벤져스 영화 의 할인된 가격 : 10000원"
   ]
  },
  {
   "cell_type": "code",
   "execution_count": 1,
   "metadata": {},
   "outputs": [
    {
     "name": "stdout",
     "output_type": "stream",
     "text": [
      "5000원이 입금되었습니다. 현재 잔액: 15000원\n",
      "2000원이 출금되었습니다. 현재 잔액: 13000원\n",
      "1000원이 출금되었습니다. 현재 잔액: 12000원\n",
      "20000원이 입금되었습니다. 현재 잔액: 32000원\n",
      "6000원이 출금되었습니다. 현재 잔액: 26000원\n"
     ]
    }
   ],
   "source": [
    "# 간단한 은행 계좌 클래스\n",
    "class BankAccount:\n",
    "    def __init__(self, owner, balance=0):\n",
    "        self.owner = owner\n",
    "        self.balance = balance\n",
    "\n",
    "# 입금\n",
    "    def deposit(self, amount):\n",
    "        self.balance += amount\n",
    "        print(f\"{amount}원이 입금되었습니다. 현재 잔액: {self.balance}원\")\n",
    "\n",
    "# 출금\n",
    "    def withdraw(self, amount):\n",
    "        if amount > self.balance:\n",
    "            print(\"잔액이 부족합니다.\")\n",
    "        else:\n",
    "            self.balance -= amount\n",
    "            print(f\"{amount}원이 출금되었습니다. 현재 잔액: {self.balance}원\")\n",
    "\n",
    "# 사용 예시\n",
    "account = BankAccount(\"홍길동\", 10000)\n",
    "account.deposit(5000) # 출력 : 5000원이 입금되었습니다. 현재 잔액: 15000원\n",
    "account.withdraw(2000) # 출력 : 20000원이 출금되었습니다. 현재 잔액: 13000원\n",
    "\n",
    "account.withdraw(1000)\n",
    "account.deposit(20000)\n",
    "account.withdraw(6000)\n"
   ]
  },
  {
   "cell_type": "code",
   "execution_count": 2,
   "metadata": {},
   "outputs": [
    {
     "name": "stdout",
     "output_type": "stream",
     "text": [
      "4 + 5 = 9\n"
     ]
    }
   ],
   "source": [
    "a, b = map(int, input().strip().split(' '))\n",
    "print(f\"{a} + {b} = {a + b}\")"
   ]
  }
 ],
 "metadata": {
  "kernelspec": {
   "display_name": ".venv",
   "language": "python",
   "name": "python3"
  },
  "language_info": {
   "codemirror_mode": {
    "name": "ipython",
    "version": 3
   },
   "file_extension": ".py",
   "mimetype": "text/x-python",
   "name": "python",
   "nbconvert_exporter": "python",
   "pygments_lexer": "ipython3",
   "version": "3.12.8"
  }
 },
 "nbformat": 4,
 "nbformat_minor": 2
}
