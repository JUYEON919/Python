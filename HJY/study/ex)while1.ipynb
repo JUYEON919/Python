{
 "cells": [
  {
   "cell_type": "code",
   "execution_count": 6,
   "metadata": {},
   "outputs": [
    {
     "name": "stdout",
     "output_type": "stream",
     "text": [
      "1개월 차: 200,000원 저축\n",
      "2개월 차: 400,000원 저축\n",
      "3개월 차: 600,000원 저축\n",
      "4개월 차: 800,000원 저축\n",
      "5개월 차: 1,000,000원 저축\n",
      "5개월 만에 목표 금액 달성!\n"
     ]
    }
   ],
   "source": [
    "def saving_simulation(target_amount, monthly_saving):\n",
    "    total = 0\n",
    "    months = 0\n",
    "    while total < target_amount:\n",
    "        total += monthly_saving\n",
    "        months += 1\n",
    "        print(f\"{months}개월 차: {total:,}원 저축\") # {total: ,}에서 콤마는 1000단위 구분\n",
    "    return f\"{months}개월 만에 목표 금액 달성!\"\n",
    "    \n",
    "print(saving_simulation(1000000, 200000)) # 출력 : 5개월 만에 목표 금액 달성 "
   ]
  },
  {
   "cell_type": "code",
   "execution_count": 5,
   "metadata": {},
   "outputs": [
    {
     "name": "stdout",
     "output_type": "stream",
     "text": [
      "1개월 차:  200,000원 저축\n",
      "2개월 차:  400,000원 저축\n",
      "3개월 차:  600,000원 저축\n",
      "4개월 차:  800,000원 저축\n",
      "5개월 차:  1,000,000원 저축\n",
      "5개월만에 목표 금액 달성!\n"
     ]
    }
   ],
   "source": [
    "# 목표 금액 모을 때까지 저축하는 시뮬레이션 함수\n",
    "def saving_simulation(target_amount, monthly_saving):\n",
    "    total = 0\n",
    "    months = 0\n",
    "    while total < target_amount:\n",
    "        total += monthly_saving\n",
    "        months += 1\n",
    "        print(f\"{months}개월 차: {total: ,}원 저축\") # {total: ,}에서 콤마는 1000단위 구분\n",
    "    return f\"{months}개월만에 목표 금액 달성!\"\n",
    "\n",
    "print(saving_simulation(1000000, 200000)) # 출력: 5개월만에 목표 금액 달성!"
   ]
  }
 ],
 "metadata": {
  "kernelspec": {
   "display_name": ".venv",
   "language": "python",
   "name": "python3"
  },
  "language_info": {
   "codemirror_mode": {
    "name": "ipython",
    "version": 3
   },
   "file_extension": ".py",
   "mimetype": "text/x-python",
   "name": "python",
   "nbconvert_exporter": "python",
   "pygments_lexer": "ipython3",
   "version": "3.12.8"
  }
 },
 "nbformat": 4,
 "nbformat_minor": 2
}
