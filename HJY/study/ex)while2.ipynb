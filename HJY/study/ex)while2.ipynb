{
 "cells": [
  {
   "cell_type": "code",
   "execution_count": 1,
   "metadata": {},
   "outputs": [
    {
     "name": "stdout",
     "output_type": "stream",
     "text": [
      "더 작은 숫자입니다!\n",
      "더 큰 숫자입니다!\n",
      "더 큰 숫자입니다!\n",
      "더 큰 숫자입니다!\n",
      "더 큰 숫자입니다!\n",
      "더 큰 숫자입니다!\n",
      "더 큰 숫자입니다!\n",
      "더 큰 숫자입니다!\n",
      "정답입니다! 9번 만에 맞추셨습니다.\n"
     ]
    }
   ],
   "source": [
    "# 숫자 맞추기 게임 함수\n",
    "def guess_number(answer):\n",
    "    count = 0\n",
    "    guess = None # 아무 값도 할당하지 않은 상태 \n",
    "    while guess != answer: # != `같지 않다` 의미의 비교 연산자\n",
    "        guess = int(input(\"1부터 100 사이의 숫자를 맞춰보세요: \"))\n",
    "        count += 1\n",
    "        if guess < answer:\n",
    "            print(\"더 큰 숫자입니다!\")\n",
    "        elif guess > answer:\n",
    "            print(\"더 작은 숫자입니다!\")\n",
    "    return f\"정답입니다! {count}번 만에 맞추셨습니다.\"\n",
    "print(guess_number(45))"
   ]
  }
 ],
 "metadata": {
  "kernelspec": {
   "display_name": ".venv",
   "language": "python",
   "name": "python3"
  },
  "language_info": {
   "codemirror_mode": {
    "name": "ipython",
    "version": 3
   },
   "file_extension": ".py",
   "mimetype": "text/x-python",
   "name": "python",
   "nbconvert_exporter": "python",
   "pygments_lexer": "ipython3",
   "version": "3.12.8"
  }
 },
 "nbformat": 4,
 "nbformat_minor": 2
}
