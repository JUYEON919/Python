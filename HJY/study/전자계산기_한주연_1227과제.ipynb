{
 "cells": [
  {
   "cell_type": "code",
   "execution_count": null,
   "metadata": {},
   "outputs": [],
   "source": [
    "#12/27 전자계산기\n",
    "\n",
    "#입력받기/덧셈/뺄셈/나눗셈/곱셈/괄호/제곱/루트/소수점/양수/음수/싸인/코사인/탄젠트/로그/\n",
    "\n",
    "#입력받기 덧셈 뺄쎔 곱셈 나누기  종료\n",
    "#0으로나눌때\n",
    "\n",
    "def add(a, b):\n",
    "    return a + b\n",
    "\n",
    "def subtract(a, b):\n",
    "    return a - b\n",
    "\n",
    "def multiply(a, b):\n",
    "    return a * b\n",
    "\n",
    "def divide(a, b):\n",
    "    if b == 0:\n",
    "        return \"0으로 나눌 수 없습니다.\"\n",
    "    return a / b\n",
    "\n",
    "while True:\n",
    "    print(\"\\n간단한 전자계산기\")\n",
    "    print(\"1: 덧셈\")\n",
    "    print(\"2: 뺄셈\")\n",
    "    print(\"3: 곱셈\")\n",
    "    print(\"4: 나눗셈\")\n",
    "    print(\"0: 종료\")\n",
    "\n",
    "    choice = input(\"원하는 작업을 선택하세요: \")\n",
    "    if choice == '0':\n",
    "        print(\"계산기를 종료합니다.\")\n",
    "        break\n",
    "    elif choice in ['1', '2', '3', '4']:\n",
    "        try:\n",
    "            num1 = float(input(\"첫 번째 숫자를 입력하세요: \"))\n",
    "            num2 = float(input(\"두 번째 숫자를 입력하세요: \"))\n",
    "            if choice == '1':\n",
    "                print(\"결과:\", add(num1, num2))\n",
    "            elif choice == '2':\n",
    "                print(\"결과:\", subtract(num1, num2))\n",
    "            elif choice == '3':\n",
    "                print(\"결과:\", multiply(num1, num2))\n",
    "            elif choice == '4':\n",
    "                print(\"결과:\", divide(num1, num2))\n",
    "        except ValueError:\n",
    "            print(\"유효한 숫자를 입력하세요.\")\n",
    "    else:\n",
    "        print(\"잘못된 선택입니다. 다시 시도하세요.\")\n"
   ]
  },
  {
   "cell_type": "code",
   "execution_count": 3,
   "metadata": {},
   "outputs": [
    {
     "name": "stdout",
     "output_type": "stream",
     "text": [
      "전자계산기\n",
      "1: 덧셈, 2: 뺄셈, 3: 곱셈, 4: 나눗셈, 5: 제곱\n",
      "6: 제곱근, 7: 로그, 8: sin, 9: cos, 10: tan, 0: 종료\n",
      "계산기 종료\n"
     ]
    }
   ],
   "source": [
    "#위에코드 간소화 / 추가( 제곱/ 로그/ 루트/ 싸인/ 코싸인/ 탄젠트 )\n",
    "#음수제곱/양수제곱/로그입력/ 여러수 입력/\n",
    "#\n",
    "#넘피 판다\n",
    "\n",
    "\n",
    "\n",
    "\n",
    "import numpy as np\n",
    "import pandas as pd\n",
    "\n",
    "def calculate(choice, data1, data2=None):\n",
    "    if choice == '1': return data1 + data2\n",
    "    if choice == '2': return data1 - data2\n",
    "    if choice == '3': return data1 * data2\n",
    "    if choice == '4': return np.where(data2 == 0, \"NaN\", data1 / data2)  # 0으로 나눌 경우 처리\n",
    "    if choice == '5': return np.power(data1, data2)\n",
    "    if choice == '6': return np.where(data1 < 0, \"NaN\", np.sqrt(data1))  # 음수 제곱근 처리\n",
    "    if choice == '7': return np.where(data1 <= 0, \"NaN\", np.log(data1))  # 로그 입력값 제한\n",
    "    if choice == '8': return np.sin(np.radians(data1))\n",
    "    if choice == '9': return np.cos(np.radians(data1))\n",
    "    if choice == '10': return np.tan(np.radians(data1))\n",
    "    return \"잘못된 선택입니다.\"\n",
    "\n",
    "while True:\n",
    "    print(\"전자계산기\")\n",
    "    print(\"1: 덧셈, 2: 뺄셈, 3: 곱셈, 4: 나눗셈, 5: 제곱\")\n",
    "    print(\"6: 제곱근, 7: 로그, 8: sin, 9: cos, 10: tan, 0: 종료\")\n",
    "    choice = input(\"원하는 작업을 선택하세요: \")\n",
    "    \n",
    "    if choice == '0':\n",
    "        print(\"계산기 종료\")\n",
    "        break\n",
    "    \n",
    "    try:\n",
    "        data = input(\"계산할 숫자를 쉼표로 구분하여 입력하세요 (예: 1,2,3): \")\n",
    "        data1 = np.array([float(x) for x in data.split(',')])  # 첫 번째 배열\n",
    "        \n",
    "        data2 = None\n",
    "        if choice in ['1', '2', '3', '4', '5']:\n",
    "            data = input(\"두 번째 숫자를 쉼표로 구분하여 입력하세요 (예: 4,5,6): \")\n",
    "            data2 = np.array([float(x) for x in data.split(',')])  # 두 번째 배열\n",
    "        \n",
    "        result = calculate(choice, data1, data2)\n",
    "        result_df = pd.DataFrame({\"Input 1\": data1, \"Input 2\": data2, \"Result\": result})\n",
    "        print(result_df)\n",
    "    except ValueError:\n",
    "        print(\"유효한 숫자를 입력하세요.\")\n",
    "\n",
    "\n",
    "\n"
   ]
  },
  {
   "cell_type": "code",
   "execution_count": 6,
   "metadata": {},
   "outputs": [
    {
     "name": "stdout",
     "output_type": "stream",
     "text": [
      "전자계산기에 오신 것을 환영합니다!\n",
      "여러 숫자와 연산자를 한 번에 입력하세요. (예: 3+4+5-2*6/3)\n",
      "종료하려면 'exit'를 입력하세요.\n",
      "잘못된 수식입니다. 다시 시도하세요.\n"
     ]
    },
    {
     "name": "stderr",
     "output_type": "stream",
     "text": [
      "<string>:1: SyntaxWarning: 'int' object is not callable; perhaps you missed a comma?\n"
     ]
    },
    {
     "name": "stdout",
     "output_type": "stream",
     "text": [
      "잘못된 수식입니다. 다시 시도하세요.\n",
      "계산기를 종료합니다. 안녕히 가세요!\n"
     ]
    }
   ],
   "source": [
    "def calculator():\n",
    "    print(\"전자계산기에 오신 것을 환영합니다!\")\n",
    "    print(\"여러 숫자와 연산자를 한 번에 입력하세요. (예: 3+4+5-2*6/3)\")\n",
    "    print(\"종료하려면 'exit'를 입력하세요.\")\n",
    "\n",
    "    while True:\n",
    "        # 수식 입력\n",
    "        expression = input(\"계산식을 입력하세요: \")\n",
    "\n",
    "        if expression.lower() == 'exit':\n",
    "            print(\"계산기를 종료합니다. 안녕히 가세요!\")\n",
    "            break\n",
    "\n",
    "        try:\n",
    "            # 입력된 수식을 계산\n",
    "            result = eval(expression)\n",
    "            print(f\"결과: {result}\")\n",
    "        except Exception as e:\n",
    "            print(\"잘못된 수식입니다. 다시 시도하세요.\")\n",
    "\n",
    "calculator()\n",
    "\n"
   ]
  }
 ],
 "metadata": {
  "kernelspec": {
   "display_name": ".venv",
   "language": "python",
   "name": "python3"
  },
  "language_info": {
   "codemirror_mode": {
    "name": "ipython",
    "version": 3
   },
   "file_extension": ".py",
   "mimetype": "text/x-python",
   "name": "python",
   "nbconvert_exporter": "python",
   "pygments_lexer": "ipython3",
   "version": "3.12.8"
  }
 },
 "nbformat": 4,
 "nbformat_minor": 2
}
