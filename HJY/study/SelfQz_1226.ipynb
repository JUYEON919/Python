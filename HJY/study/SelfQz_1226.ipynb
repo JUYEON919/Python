{
 "cells": [
  {
   "cell_type": "code",
   "execution_count": 5,
   "metadata": {},
   "outputs": [
    {
     "name": "stdout",
     "output_type": "stream",
     "text": [
      "총 판매 금액: 56100원\n"
     ]
    }
   ],
   "source": [
    "inventory = {\n",
    "    \"탱크보이\": [1200, 10],\n",
    "    \"폴라포\": [1200, 8],\n",
    "    \"빵빠레\": [1800, 5],\n",
    "    \"월드콘\": [1500, 7],\n",
    "    \"메로나\": [1000, 15]\n",
    "}\n",
    "total_sales = sum(value[0] * value[1] for value in inventory.values())\n",
    "print(f\"총 판매 금액: {total_sales}원\")\n",
    "\n"
   ]
  },
  {
   "cell_type": "code",
   "execution_count": 8,
   "metadata": {},
   "outputs": [
    {
     "name": "stdout",
     "output_type": "stream",
     "text": [
      "{3: ['cat', 'bat'], 5: ['apple'], 6: ['banana']}\n"
     ]
    }
   ],
   "source": [
    "words = [\"apple\", \"cat\", \"banana\", \"bat\"]\n",
    "\n",
    "# 그룹화\n",
    "grouped = {length: list(filter(lambda x: len(x) == length, words)) for length in set(map(len, words))}\n",
    "print(grouped)\n",
    "# 출력: {5: ['apple'], 3: ['cat', 'bat'], 6: ['banana']}\n"
   ]
  },
  {
   "cell_type": "code",
   "execution_count": 10,
   "metadata": {},
   "outputs": [
    {
     "name": "stdout",
     "output_type": "stream",
     "text": [
      "[4, 10, 18]\n"
     ]
    }
   ],
   "source": [
    "list1 = [1, 2, 3]\n",
    "list2 = [4, 5, 6]\n",
    "\n",
    "# 요소별 곱 계산\n",
    "products = list(map(lambda x, y: x * y, list1, list2))\n",
    "print(products)\n",
    "# 출력: [4, 10, 18]\n"
   ]
  },
  {
   "cell_type": "code",
   "execution_count": 11,
   "metadata": {},
   "outputs": [
    {
     "name": "stdout",
     "output_type": "stream",
     "text": [
      "('apple', 'banana', 'date')\n"
     ]
    }
   ],
   "source": [
    "words = (\"apple\", \"banana\", \"cherry\", \"date\", \"kiwi\")\n",
    "\n",
    "# \"a\"를 포함한 단어 필터링\n",
    "contains_a = tuple(filter(lambda x: 'a' in x, words))\n",
    "print(contains_a)\n",
    "# 출력: ('apple', 'banana', 'date')\n"
   ]
  }
 ],
 "metadata": {
  "kernelspec": {
   "display_name": ".venv",
   "language": "python",
   "name": "python3"
  },
  "language_info": {
   "codemirror_mode": {
    "name": "ipython",
    "version": 3
   },
   "file_extension": ".py",
   "mimetype": "text/x-python",
   "name": "python",
   "nbconvert_exporter": "python",
   "pygments_lexer": "ipython3",
   "version": "3.12.8"
  }
 },
 "nbformat": 4,
 "nbformat_minor": 2
}
