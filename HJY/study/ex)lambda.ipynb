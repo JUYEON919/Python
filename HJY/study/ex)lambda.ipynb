{
 "cells": [
  {
   "cell_type": "code",
   "execution_count": 1,
   "metadata": {},
   "outputs": [
    {
     "name": "stdout",
     "output_type": "stream",
     "text": [
      "12\n"
     ]
    }
   ],
   "source": [
    "# 곱하기\n",
    "multiply = lambda x, y: x * y\n",
    "print(multiply(3, 4))"
   ]
  },
  {
   "cell_type": "code",
   "execution_count": 1,
   "metadata": {},
   "outputs": [
    {
     "name": "stdout",
     "output_type": "stream",
     "text": [
      "25\n"
     ]
    }
   ],
   "source": [
    "# 제곱\n",
    "square = lambda x: x ** 2\n",
    "print(square(5))"
   ]
  },
  {
   "cell_type": "code",
   "execution_count": 2,
   "metadata": {},
   "outputs": [
    {
     "name": "stdout",
     "output_type": "stream",
     "text": [
      "10\n"
     ]
    }
   ],
   "source": [
    "# 더하기\n",
    "add = lambda a, b: a + b\n",
    "print(add(3, 7))"
   ]
  },
  {
   "cell_type": "code",
   "execution_count": 2,
   "metadata": {},
   "outputs": [
    {
     "name": "stdout",
     "output_type": "stream",
     "text": [
      "2.0\n"
     ]
    }
   ],
   "source": [
    "# 나누기\n",
    "divided = lambda x, y: x / y\n",
    "print(divided(10, 5))"
   ]
  },
  {
   "cell_type": "code",
   "execution_count": 3,
   "metadata": {},
   "outputs": [
    {
     "name": "stdout",
     "output_type": "stream",
     "text": [
      "3\n"
     ]
    }
   ],
   "source": [
    "# 빼기\n",
    "minus = lambda  a, b: a - b\n",
    "print(minus(7, 4))"
   ]
  },
  {
   "cell_type": "code",
   "execution_count": 9,
   "metadata": {},
   "outputs": [
    {
     "name": "stdout",
     "output_type": "stream",
     "text": [
      "짝수\n"
     ]
    }
   ],
   "source": [
    "# 조건문 사용\n",
    "check_even = lambda x: \"짝수\" if x % 2 == 0 else \"홀수\"\n",
    "print(check_even(986))"
   ]
  },
  {
   "cell_type": "code",
   "execution_count": 11,
   "metadata": {},
   "outputs": [
    {
     "name": "stdout",
     "output_type": "stream",
     "text": [
      "[1, 2, 5, 9]\n"
     ]
    }
   ],
   "source": [
    "# 다른 함수의 인자로 사용\n",
    "numbers = [5, 2, 9, 1]\n",
    "sorted_numbers = sorted(numbers, key=lambda x: x)\n",
    "print(sorted_numbers)"
   ]
  },
  {
   "cell_type": "code",
   "execution_count": 22,
   "metadata": {},
   "outputs": [
    {
     "data": {
      "text/plain": [
       "True"
      ]
     },
     "execution_count": 22,
     "metadata": {},
     "output_type": "execute_result"
    }
   ],
   "source": [
    "#데이터 변환 및 확인 함수\n",
    "\n",
    "#type(123)\n",
    "#int(\"10\")\n",
    "#float(\"3.14\")\n",
    "#str(123)\n",
    "#bool(0)\n",
    "#bool(1)\n",
    "isinstance(123, int)"
   ]
  },
  {
   "cell_type": "code",
   "execution_count": 23,
   "metadata": {},
   "outputs": [
    {
     "name": "stdout",
     "output_type": "stream",
     "text": [
      "[2, 4, 6, 8, 10]\n"
     ]
    }
   ],
   "source": [
    "#map함수\n",
    "numbers = [1, 2, 3, 4, 5]\n",
    "\n",
    "#각 숫자를 두 배로 만드는 함수\n",
    "def double(x):\n",
    "    return x * 2\n",
    "\n",
    "# map함수를 사용하여 각 숫자에 double 함수 적용\n",
    "result = list(map(double, numbers))\n",
    "print(result)"
   ]
  },
  {
   "cell_type": "code",
   "execution_count": 19,
   "metadata": {},
   "outputs": [
    {
     "name": "stdout",
     "output_type": "stream",
     "text": [
      "['APPLE', 'BANANA', 'CHERRY']\n"
     ]
    }
   ],
   "source": [
    "# map 함수_문자열\n",
    "words = ['apple', 'banana', 'cherry']\n",
    "\n",
    "# 문자열을 대문자로 바꾸는 함수 /소문자는 lower\n",
    "def to_upper(s):\n",
    "    return s.upper()\n",
    "\n",
    "# map함수를 사용하여 각 문자열을 대문자로 변환\n",
    "result = list(map(to_upper, words))\n",
    "print(result)"
   ]
  },
  {
   "cell_type": "code",
   "execution_count": 24,
   "metadata": {},
   "outputs": [
    {
     "name": "stdout",
     "output_type": "stream",
     "text": [
      "['apple', 'banana', 'cherry']\n"
     ]
    }
   ],
   "source": [
    "# map 함수_문자열\n",
    "words = ['ApPle', 'bAnaNa', 'CHerRy']\n",
    "\n",
    "# 문자열을 소문자로 바꾸는 함수\n",
    "def to_lower(s):\n",
    "    return s.lower()\n",
    "\n",
    "# map함수를 사용하여 각 문자열을 소문자로 변환\n",
    "result = list(map(to_lower, words))\n",
    "print(result)"
   ]
  },
  {
   "cell_type": "code",
   "execution_count": 27,
   "metadata": {},
   "outputs": [
    {
     "name": "stdout",
     "output_type": "stream",
     "text": [
      "[2, 4]\n"
     ]
    }
   ],
   "source": [
    "# filter 함수 : 함수의 결과가 True인 요소만 추출\n",
    "numbers = [1, 2, 3, 4, 5]\n",
    "even_numbers = list(filter(lambda x: x % 2 == 0, numbers))  # 짝수만 추출\n",
    "print(even_numbers)"
   ]
  },
  {
   "cell_type": "code",
   "execution_count": 29,
   "metadata": {},
   "outputs": [
    {
     "name": "stdout",
     "output_type": "stream",
     "text": [
      "0 apple\n",
      "1 banana\n",
      "2 cherry\n"
     ]
    }
   ],
   "source": [
    "# enumerate 함수 : 각 요소에 대해 (index, value) 튜플을 생성\n",
    "fruits = ['apple', 'banana', 'cherry']\n",
    "for index, fruit in enumerate(fruits):\n",
    "    print(index, fruit)"
   ]
  },
  {
   "cell_type": "code",
   "execution_count": 121,
   "metadata": {},
   "outputs": [
    {
     "name": "stdout",
     "output_type": "stream",
     "text": [
      "Umm hi my name ju\n"
     ]
    }
   ],
   "source": [
    "text = \"umM hi My name ju\"\n",
    "print(text.capitalize())"
   ]
  }
 ],
 "metadata": {
  "kernelspec": {
   "display_name": ".venv",
   "language": "python",
   "name": "python3"
  },
  "language_info": {
   "codemirror_mode": {
    "name": "ipython",
    "version": 3
   },
   "file_extension": ".py",
   "mimetype": "text/x-python",
   "name": "python",
   "nbconvert_exporter": "python",
   "pygments_lexer": "ipython3",
   "version": "3.12.8"
  }
 },
 "nbformat": 4,
 "nbformat_minor": 2
}
