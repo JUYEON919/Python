{
 "cells": [
  {
   "cell_type": "code",
   "execution_count": 1,
   "metadata": {},
   "outputs": [
    {
     "name": "stdout",
     "output_type": "stream",
     "text": [
      "===== 데이터 분할 예제 =====\n",
      " 전체 데이터: [1, 2, 3, 4, 5, 6, 7, 8, 9, 10]\n",
      "\\기본 비율(80%)로 분할:\n",
      "학습 데이터: [1, 2, 3, 4, 5, 6, 7, 8]\n",
      "테스트 데이터: [9, 10]\n"
     ]
    }
   ],
   "source": [
    "# 데이터 분할 함수\n",
    "def split_data(data, train_ratio=0.8):\n",
    "    \"\"\"\n",
    "    데이터를 학습용과 테스트용으로 분리하는 함수\n",
    "    매개변수:\n",
    "        data: 분할할 데이터 리스트\n",
    "        train_ratio: 학습 데이터의 비율 (기본값 0.8 = 80%)\n",
    "    반환값:\n",
    "        train_data : 학습용 데이터\n",
    "        test_data: 테스트용 데이터\n",
    "    \"\"\"\n",
    "    # 학습 데이터 개수 계산\n",
    "    split_index = int(len(data) * train_ratio) # len함수 : 문자열, 리스트, 튜플 등 길이 측정\n",
    "    # 데이터 분할\n",
    "    train_data = data[:split_index] # 처음부터 split_index까지\n",
    "    test_data = data[split_index:] # split_index부터 끝까지\n",
    "    return train_data, test_data\n",
    "\n",
    "# 데이터 분할 함수 사용 예시\n",
    "full_data = [1, 2, 3, 4, 5, 6, 7, 8, 9, 10]\n",
    "print(\"===== 데이터 분할 예제 =====\")\n",
    "print(\" 전체 데이터:\", full_data) # 콤마(,)로 결과로 나오는 리스트의 요소 값을 구분\n",
    "\n",
    "# 80:20으로 분할\n",
    "train, test = split_data(full_data)\n",
    "print(\"\\기본 비율(80%)로 분할:\")\n",
    "print(\"학습 데이터:\", train)\n",
    "print(\"테스트 데이터:\", test)\n",
    "\n"
   ]
  }
 ],
 "metadata": {
  "kernelspec": {
   "display_name": ".venv",
   "language": "python",
   "name": "python3"
  },
  "language_info": {
   "codemirror_mode": {
    "name": "ipython",
    "version": 3
   },
   "file_extension": ".py",
   "mimetype": "text/x-python",
   "name": "python",
   "nbconvert_exporter": "python",
   "pygments_lexer": "ipython3",
   "version": "3.12.8"
  }
 },
 "nbformat": 4,
 "nbformat_minor": 2
}
