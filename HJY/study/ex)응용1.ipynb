{
 "cells": [
  {
   "cell_type": "code",
   "execution_count": 1,
   "metadata": {},
   "outputs": [
    {
     "name": "stdout",
     "output_type": "stream",
     "text": [
      "=======데이터 정규화 예제=======\n",
      "원본 데이터: [10, 20, 30, 40, 50]\n",
      "정규화된 데이터: [0.0, 0.25, 0.5, 0.75, 1.0]\n"
     ]
    }
   ],
   "source": [
    "#데이터 정규화 함수 (cf. 정규화: 서로 다른 범위의 값들을 비교할 때, 값들을 동일한 기준으로 맞춤\n",
    "def normalize_data(numbers):\n",
    "    \"\"\"\n",
    "    데이터를 0~1 사이의 값으로 정규화하는 함수\n",
    "    정규화 = (값 – 최소값) / (최대값 – 최소값)\n",
    "    매개변수:\n",
    "        정규화 = (값 – 최소값) / (최대값 – 최소값)\n",
    "    반환값:\n",
    "        정규화된 데이터 리스트 (0~1 사이의 값)\n",
    "    \"\"\"\n",
    "    \n",
    "    min_value = min(numbers) #데이터의 최소값\n",
    "    max_value = max(numbers) #데이터의 최대값\n",
    "    normalized = [] #정규화된 값을 저장할 리스트\n",
    "    \n",
    "    for num in numbers:\n",
    "        #정규화 공식 적용\n",
    "        norm_value = (num - min_value) / (max_value - min_value)\n",
    "        normalized.append(norm_value)\n",
    "    return normalized\n",
    "\n",
    "data = [10, 20, 30, 40, 50]\n",
    "print(\"=======데이터 정규화 예제=======\")\n",
    "print(\"원본 데이터:\", data)\n",
    "normalized = normalize_data(data)\n",
    "print(\"정규화된 데이터:\", normalized)"
   ]
  },
  {
   "cell_type": "markdown",
   "metadata": {},
   "source": [
    "#제목"
   ]
  },
  {
   "cell_type": "markdown",
   "metadata": {},
   "source": [
    "#Markdown 제목달때 사용 (Shift + Enter)"
   ]
  },
  {
   "cell_type": "markdown",
   "metadata": {},
   "source": []
  }
 ],
 "metadata": {
  "kernelspec": {
   "display_name": ".venv",
   "language": "python",
   "name": "python3"
  },
  "language_info": {
   "codemirror_mode": {
    "name": "ipython",
    "version": 3
   },
   "file_extension": ".py",
   "mimetype": "text/x-python",
   "name": "python",
   "nbconvert_exporter": "python",
   "pygments_lexer": "ipython3",
   "version": "3.12.8"
  }
 },
 "nbformat": 4,
 "nbformat_minor": 2
}
