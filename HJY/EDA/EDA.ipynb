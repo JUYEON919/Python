{
 "cells": [
  {
   "cell_type": "code",
   "execution_count": 4,
   "metadata": {
    "id": "ftFjzKspZ12n"
   },
   "outputs": [
    {
     "name": "stderr",
     "output_type": "stream",
     "text": [
      "Summarize dataset: 100%|██████████| 82/82 [00:08<00:00,  9.83it/s, Completed]                                                 \n",
      "Generate report structure: 100%|██████████| 1/1 [00:03<00:00,  3.47s/it]\n",
      "Render HTML: 100%|██████████| 1/1 [00:02<00:00,  2.02s/it]\n",
      "Export report to file: 100%|██████████| 1/1 [00:00<00:00, 40.72it/s]\n"
     ]
    }
   ],
   "source": [
    "import pandas as pd\n",
    "from ydata_profiling import ProfileReport\n",
    "\n",
    "# 데이터 불러오기\n",
    "df = pd.read_csv('../dataset/diabetes.csv', encoding='cp949')\n",
    "\n",
    "# 프로파일링 리포트 생성\n",
    "profile = ProfileReport(\n",
    "    df,\n",
    "    title=\"EDA 보고서\",\n",
    "    explorative=True,\n",
    "    html={\n",
    "        'style': {\n",
    "            'theme': 'united'  # 허용된 theme 중 하나로 변경\n",
    "        }\n",
    "    }\n",
    ")\n",
    "\n",
    "# 리포트 저장 및 출력\n",
    "profile.to_file(\"../report/eda_report.html\")"
   ]
  },
  {
   "cell_type": "markdown",
   "metadata": {},
   "source": []
  }
 ],
 "metadata": {
  "colab": {
   "authorship_tag": "ABX9TyOkPQfrTp0BsNNfqxOfvbYX",
   "provenance": []
  },
  "kernelspec": {
   "display_name": ".venv",
   "language": "python",
   "name": "python3"
  },
  "language_info": {
   "codemirror_mode": {
    "name": "ipython",
    "version": 3
   },
   "file_extension": ".py",
   "mimetype": "text/x-python",
   "name": "python",
   "nbconvert_exporter": "python",
   "pygments_lexer": "ipython3",
   "version": "3.12.8"
  }
 },
 "nbformat": 4,
 "nbformat_minor": 0
}
